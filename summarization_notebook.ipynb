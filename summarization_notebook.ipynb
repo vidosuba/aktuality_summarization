{
 "cells": [
  {
   "cell_type": "markdown",
   "metadata": {},
   "source": [
    "# data exploration"
   ]
  },
  {
   "cell_type": "code",
   "execution_count": 68,
   "metadata": {},
   "outputs": [],
   "source": [
    "from os import listdir\n",
    "from bs4 import BeautifulSoup\n",
    "from random import randrange\n",
    "\n",
    "TRAINING_DIR = \"data/training/\"\n",
    "PARAGRAPH_LENGTH_THRESHOLD = 15"
   ]
  },
  {
   "cell_type": "code",
   "execution_count": 54,
   "metadata": {},
   "outputs": [
    {
     "name": "stdout",
     "output_type": "stream",
     "text": [
      "99506\n",
      "f81ce708ea6c5e84b02124b75b0b239ca3f141b1.html\n",
      "dbc97aa09c2391f25386a4def47f20d626cba265.html\n",
      "6445dd8eae0557fb81e5da5fd9dd8b1660f08feb.html\n",
      "b9e9d240ab0d8bc2acd1686ccb49038bff41b80c.html\n",
      "87f3f17f46581c6ef27f32441eec6e96d3eb4e79.html\n"
     ]
    }
   ],
   "source": [
    "files = listdir(TRAINING_DIR)\n",
    "print(len(files))\n",
    "for i in range(5):\n",
    "    print(files[i])"
   ]
  },
  {
   "cell_type": "code",
   "execution_count": 55,
   "metadata": {},
   "outputs": [],
   "source": [
    "with open(TRAINING_DIR + files[5], 'r') as r:\n",
    "    html_doc = r.read()\n",
    "\n",
    "soup = BeautifulSoup(html_doc, 'html.parser')"
   ]
  },
  {
   "cell_type": "code",
   "execution_count": 59,
   "metadata": {},
   "outputs": [
    {
     "name": "stdout",
     "output_type": "stream",
     "text": [
      "Obchodníci rešpektujú rozhodnutie vlády nepredávať český alkohol\n"
     ]
    }
   ],
   "source": [
    "print(soup.h1.get_text())"
   ]
  },
  {
   "cell_type": "code",
   "execution_count": 57,
   "metadata": {
    "collapsed": true
   },
   "outputs": [
    {
     "name": "stdout",
     "output_type": "stream",
     "text": [
      "Obchodníci rešpektujú rozhodnutie  vlády o zákaze predaja a dovozu viac ako 20-% alkoholu z Českej  republiky (ČR). Od 17.00 h sa tak snažia neponúkať takýto alkohol na  pultoch svojich predajní.\n",
      "\n",
      "\n",
      "\"Jedná sa o náročný proces, budeme sa  snažiť zabezpečiť ho podľa podmienok uvedených v rozhodnutí,\"  konštatoval pre TASR podpredseda predstavenstva COOP Jednota Slovensko  Martin Katriak. Opatrenie spôsobí podľa jeho slov obchodníkom v prvom  rade problém so stiahnutím a úschovou tohto alkoholu. \"Budeme musieť  nájsť miesto v predajni, kde tento tovar uložíme. Tiež budeme musieť  s českými partnermi dohodnúť odklad dodávok, ktorý by sme mali podľa  zmlúv riadne odobrať,\" vysvetli Katriak. Obáva sa preto, že sa to všetko  nestihne do stanoveného termínu 17.00 h.\n",
      "\n",
      "\n",
      "\"V tejto veci budeme  striktne dodržiavať nariadenia vlády SR a Úradu pre verejné  zdravotníctvo,\" avizoval Miroslav Chmelár zo spoločnosti AHOLD, ktorá na  Slovensku prevádzkuje predajne Hypernova a Albert. Stiahnutie alkoholu  vyrobeného v ČR je podľa jeho slov sieť pripravená spraviť ešte dnes.\n",
      "\n",
      "\n",
      "\"Ide  o mimoriadne opatrenie, pre ktoré máme pochopenie,\" pridal sa generálny  riaditeľ BILLA Česká republika a Slovensko Jaroslaw Szczypka.\n",
      "\n",
      "\n",
      "Zákaz dovozu a predaja českého alkoholu platí na Slovensku oddnes od 17.00 h a vzťahuje sa na viac ako 20-% alkohol.\n",
      "\n",
      "\n",
      "Metylalkohol  si v Česku vyžiadal vyše 20 ľudských životov a ďalšie desiatky ľudí sú v  nemocnici. V ČR preto platí od piatkového (14.9.) večera zákaz predaja  nápojov s obsahom nad 20 % alkoholu, napriek tomu však pribúdajú otravy  spôsobené metylalkoholom. Polícia už pre otravy obvinila viacerých ľudí.  Na Slovensku sa zatiaľ zaznamenal iba jeden prípad, hospitalizovaných  bolo osem ľudí.\n",
      "\n",
      "\n",
      "Správy z Aktualít na facebooku\n",
      "\n",
      "\n",
      "Umelkyňa Melody Yang sa pozerá cez bubliny, ktoré vytvorila na stole pri pokuse...\n",
      "\n",
      "\n",
      "Aktuality | Kontakt | Pravidlá | Reklama | Kariéra v Azete | RSS | Mobilná verzia | Pripomienky\n",
      "\n",
      "\n",
      "© 2000–2012 Azet.sk, a. s.\n",
      "\n",
      "\n",
      "Táto akcia vyžaduje prihlásenie. Chceš sa prihlásiť?\n",
      "\n",
      "\n"
     ]
    }
   ],
   "source": [
    "for o in soup.find_all('p'):\n",
    "    text = o.get_text().strip()\n",
    "    if len(text) > PARAGRAPH_LENGTH_THRESHOLD:\n",
    "        print(text + \"\\n\\n\")"
   ]
  },
  {
   "cell_type": "code",
   "execution_count": 78,
   "metadata": {},
   "outputs": [
    {
     "name": "stdout",
     "output_type": "stream",
     "text": [
      "Dnes je 1.7.2009, \n",
      "\tmeniny má Diana, zajtra Berta  Pošli kvety ilustračné foto23.12.2008 13:28 – SVETRok 2008 priniesol mnoho zaujímavostí a pikošiek. Spravodajský portál aktuality.sk uverejnil počas celého roku množstvo pikošiek, z ktorých treba vybrať tú najbizarnejšiu. A to je vaša úloha. 23.12.2008 13:28 – SVET Nominovaní:ŠTVORNOHÁ SLIEPKAV čínskom Jinan žije sliepka, ktorá má dve nohy úplne normálne. Spoza nich jej však vyrastá ešte jedna väčšia, rozvetvená na dve, takže dokopy ich má štyri. Experti zaoberajúci sa anomáliami varujú, že podobné deformácie budeme vídavať už len častejšie. Tejto sliepočke ale nič nebráni v tom, aby znášala vajcia a spolu s ostatnými žila bez problémov v spoločnom kuríne.OSEM PRSTOV NA KAŽDEJ NOHEV juhočínskom Leizhou v provincii Guangdong sa minulý týždeň narodilo naozaj nevídané bábätko. Na oboch nohách má po osem prstov, ruky má našťastie úplne v poriadku. Hoci tento hendikep priamo neohrozuje život chlapčeka, rodičia majú strach, čo sa bude s ich ratolesťou diať v období dospievania. Podľa pôrodníka ide o poruchu, ktorá má pôvod v genetike alebo v nečistom prostredí.PRASA S OPIČOU HLAVOUV Číne sa narodilo prasiatko s hlavou opice. Prasiatko s opičou hlavou sa narodilo na farme Feng-čang. Jeho mama tam žila už deväť rokov a toto je prvé dieťa, ktoré má črty aj iného zvieraťa. Predpokladá sa, že zviera je geneticky zmutované, pretože kríženie tak rôznych druhov zvierat je nemožné.HADA SI PCHÁ Z NOSA DO ÚSTMuž bez vzdelania C. Manoharan, známy ako Hadí Manu, je naozaj šialenec. Živého hada si dokáže zaviesť z nosa do úst. Najnovšie sa pokúsi urobiť tento svetový rekord so živou kobrou. Kobry sú legendárne obávané a zároveň aj uctievané živočíchy. V reálnom živote na ich uštipnutie umierajú tisíce ľudí. Avšak ani tieto fakty neodradili Manoharana k dosiahnutiu ďalšieho cieľa. Tento tridsaťročný \"blázon\" je už držiteľom svetového rekordu z roku 2003, kedy za tridsať sekúnd zjedol 200 dážďoviek.MAČIATKO S DVOMA HLAVAMINeobyčajné mačiatko s dvoma tvárami prišlo na svet v austrálskom Perthe. Môže mňaukať oboma ústami súčasne, jesť však dokáže len s jednými. Majiteľ uvažuje, že mačiatko nazve Quasimodo. Narodilo sa po komplikáciách a má ešte dvoch súrodencov. Veterinár, ktorý mame-mačke v kritickej chvíli pomáhal, dáva malému šance na prežitie. Malá šelma mňauká, pradie. Možno nemá deväť životov, ale jedno je isté - má dve tváre. \"Chúďa mačacia mama, je to pre ňu vlastne viac hladných úst!\" napísal britský bulvárny denník Sun.ilustračné fotoPES POSTRELIL POĽOVNÍKATridsaťsedemročný James Harris urobil v októbri na love zásadnú chybu, keď odložil nezaistenú pušku na zem, aby mohol zobrať práve zabitého bažanta. Tesne za ním sa totiž v lese pohybovala svorka poľovníckych psov a jeden náhodou šľapol priamo na spúšť. Nešťasnému poľovníkovi sa do lýtka zaborilo okolo 120 brokov, normálne určených k zostrelu vtákov. \"Život mu to neohrozí, ale nadlho znepríjemní,\" povedal agentúre AFP jeden zo zamestnancov miestnej samosprávy. Poľovník bol ošetrený v miestnej nemocnici a neskôr vrtuľníkom prevezený k ďalšiemu liečeniu do univerzitnej nemocnice v Iowa City.Vaše hlasy posielajte na adresu: sutaz@aktuality.sk, heslo: BIZARNOST ROKA. Uzávierka súťaže: 31. decembra 2008 o 12.00 hHráme o množstvo hodnotných cien!!!\n"
     ]
    }
   ],
   "source": [
    "#article = soup.find(\"div\", {\"class\": \"obsah\"})\n",
    "text = ' '.join([o.get_text().strip() for o in soup.find_all('p')[:-3] \n",
    "                 if len(o.get_text().strip()) > PARAGRAPH_LENGTH_THRESHOLD])\n",
    "print(text)"
   ]
  },
  {
   "cell_type": "markdown",
   "metadata": {},
   "source": [
    "# dataset creation"
   ]
  },
  {
   "cell_type": "code",
   "execution_count": 79,
   "metadata": {},
   "outputs": [
    {
     "name": "stdout",
     "output_type": "stream",
     "text": [
      "398/99506\n",
      "796/99506\n",
      "1194/99506\n",
      "1592/99506\n",
      "1990/99506\n",
      "2388/99506\n",
      "2786/99506\n",
      "3184/99506\n",
      "3582/99506\n",
      "3980/99506\n",
      "4378/99506\n",
      "4776/99506\n",
      "5174/99506\n",
      "5572/99506\n",
      "5970/99506\n",
      "6368/99506\n",
      "6766/99506\n",
      "7164/99506\n",
      "7562/99506\n",
      "7960/99506\n",
      "8358/99506\n",
      "8756/99506\n",
      "9154/99506\n",
      "9552/99506\n",
      "9950/99506\n"
     ]
    }
   ],
   "source": [
    "training_texts = list()\n",
    "training_summs = list()\n",
    "\n",
    "for c, f in enumerate(files):\n",
    "    if c > len(files)//10:\n",
    "        break\n",
    "    if c != 0 and c % (len(files)//250) == 0:\n",
    "        print(f\"{c}/{len(files)}\")\n",
    "    with open(TRAINING_DIR + f, 'r') as r:\n",
    "        html_doc = r.read()\n",
    "        \n",
    "    soup = BeautifulSoup(html_doc, 'html.parser')\n",
    "    training_summs.append(soup.h1.get_text())\n",
    "    text = ' '.join([o.get_text().strip() for o in soup.find_all('p')[:-3] \n",
    "                 if len(o.get_text().strip()) > PARAGRAPH_LENGTH_THRESHOLD])\n",
    "    training_texts.append(text)"
   ]
  },
  {
   "cell_type": "code",
   "execution_count": 81,
   "metadata": {},
   "outputs": [
    {
     "name": "stdout",
     "output_type": "stream",
     "text": [
      "9951\n",
      "9951\n"
     ]
    }
   ],
   "source": [
    "print(len(training_texts))\n",
    "print(len(training_summs))"
   ]
  },
  {
   "cell_type": "code",
   "execution_count": 83,
   "metadata": {},
   "outputs": [
    {
     "name": "stdout",
     "output_type": "stream",
     "text": [
      "V USA od začiatku roka skrachovalo 13 bánk\n",
      "\n",
      "Americké regulačné orgány zatvorili v piatok (18. 7.) jednu malú banku v štáte Georgia. Od začiatku roka 2014 v USA skrachovalo 13 bánk. Vlani v USA zbankrotovalo 24 bánk, 51 v roku 2012, 92 v roku 2011 a 157 v roku 2010. Informovala o tom agentúra RTTNews. Federálna poisťovňa vkladov (FDIC) v piatok zatvorila finančný inštitút Eastside Commercial Bank. Bola to prvá banka, ktorá tento rok skrachovala v štáte Georgia. Posledným finančným inštitútom, ktorý v tomto štáte FDIC zatvorila, bola 10. mája 2013 Sunrise Bank. FDIC očakáva, že bankrot Eastside Commercial Bank bude stáť fond poistenia vkladov (DIF) 33,9 milióna USD (25,1 miliardy eur). Eastside Commercial Bank mala k 31. marcu 2014 aktíva v celkovej hodnote približne 169 miliónov USD a vklady 161,6 milióna USD. Vklady banky prevezme Community & Southern Bank z Atlanty. Správy z Aktualít na facebooku Aktuality | Kontakt | Pravidlá | Reklama | Kariéra v Azete | RSS | Mobilná verzia | Pripomienky | Na stiahnutie © 2000–2014 Azet.sk, a. s.\n"
     ]
    }
   ],
   "source": [
    "index = randrange(len(training_texts))\n",
    "print(training_summs[index])\n",
    "print()\n",
    "print(training_texts[index])"
   ]
  },
  {
   "cell_type": "markdown",
   "metadata": {},
   "source": [
    "# text rank"
   ]
  },
  {
   "cell_type": "code",
   "execution_count": null,
   "metadata": {},
   "outputs": [],
   "source": []
  }
 ],
 "metadata": {
  "kernelspec": {
   "display_name": "Python 3",
   "language": "python",
   "name": "python3"
  },
  "language_info": {
   "codemirror_mode": {
    "name": "ipython",
    "version": 3
   },
   "file_extension": ".py",
   "mimetype": "text/x-python",
   "name": "python",
   "nbconvert_exporter": "python",
   "pygments_lexer": "ipython3",
   "version": "3.7.6"
  }
 },
 "nbformat": 4,
 "nbformat_minor": 4
}
