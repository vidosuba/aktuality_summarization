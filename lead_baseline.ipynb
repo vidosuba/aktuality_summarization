{
 "cells": [
  {
   "cell_type": "code",
   "execution_count": 21,
   "metadata": {},
   "outputs": [
    {
     "name": "stdout",
     "output_type": "stream",
     "text": [
      "racklist k filmu Päťdesiat odtieňov sivej - nechýba Sinatra , či Beyoncé Soundtrack snímky Päťdesiat odtieňov sivej ponúkne skladby speváčok Annie Lennox , Beyoncé alebo Sie . RESULT OF summarizeWithWikiBert : Okrem toho bude kompilačný album obsahovať po jednej nahrávke od The Rolling Stones , Vaults či Franka Sinatru . Nebudú chýbať ani pôvodne filmové piesne Love Me Like You Do anglickej speváčky Ellie Goulding a Earned It , ktorú nahral The Weeknd .\n"
     ]
    }
   ],
   "source": [
    "def first_n_sentences(n, text):\n",
    "    return '.'.join(text.split('.')[:n]) + '.'\n",
    "\n",
    "def summarizeWithLead(text):\n",
    "    return first_n_sentences(3, text)\n",
    "\n",
    "\n",
    "a = summarizeWithLead(\"racklist k filmu Päťdesiat odtieňov sivej - nechýba Sinatra , či Beyoncé Soundtrack snímky Päťdesiat odtieňov sivej ponúkne skladby speváčok Annie Lennox , Beyoncé alebo Sie . RESULT OF summarizeWithWikiBert : Okrem toho bude kompilačný album obsahovať po jednej nahrávke od The Rolling Stones , Vaults či Franka Sinatru . Nebudú chýbať ani pôvodne filmové piesne Love Me Like You Do anglickej speváčky Ellie Goulding a Earned It , ktorú nahral The Weeknd . James pôvodne písala príbeh ako anonymná fanúšička upírskej ságy Twilight a postupne ho zverejňovala na fanúšikovských stránkach pod názvom Master of Universe .\")\n",
    "print(a)"
   ]
  },
  {
   "cell_type": "code",
   "execution_count": 22,
   "metadata": {},
   "outputs": [
    {
     "name": "stdout",
     "output_type": "stream",
     "text": [
      "f means f1 score, r means recall, p means precision\n",
      "\n",
      "TARGET: Centy v peňaženkách Slovákov zatiaľ ostanú Ilustračné foto\n",
      "RESULT OF summarizeWithLead : Centy zatiaľ Slovákom v peňaženkách ostanú . Na dnešnej konferencii venovanej prvému roku s eurom to povedal guvernér Národnej banky Slovenska ( NBS ) Ivan Šramko . Podľa prieskumu , ktorý realizovalo Zastúpenie Európskej komisie na Slovensku v októbri tohto roku , vyplýva , že spotrebiteľom aj obchodníkom z euromincí najviac \" prekážajú \" práve jedno - a dvojcentové mince .\n",
      "rouge-l f1 score: 0.2711619908778263 \n",
      "\n",
      "TARGET: V USA skrachovalo ďalších 8 bánk , celkovo v tomto roku už 118 Americké regulačné úrady zatvorili ďalších 8 bánk . Celkovo ich v tomto roku v USA skrachovalo už 118 . Počet bankrotov amerických bánk sa zvyšuje a v tomto roku zrejme prekoná vlaňajších 140 , uviedla šéfka Federálneho úradu na ochranu vkladov FDIC Sheila Bairová v júli v rozhovore pre Bloomberg Television . Pobočka skrachovanej banky ShoreBank\n",
      "RESULT OF summarizeWithLead : FDIC tradične v piatok ( 20.8 . ) zatvoril štyri kalifornské banky , dve floridské , jednu chicagskú a jednu v štáte Virgínia .\n",
      "rouge-l f1 score: 0.12480100489084449 \n",
      "\n",
      "TARGET: Karin Haydu má plný diár Karin Haydu\n",
      "RESULT OF summarizeWithLead : Herečke a moderátorke Karin Haydu sa začína horúca sezóna . Hoci ju môžete vidieť aj na doskách , ktoré znamenajú svet , začiatok divadelnej sezóny ju v týchto dňoch príliš netrápi . „ Paradoxne mám v septembri strašne veľa moderovania .\n",
      "rouge-l f1 score: 0.15544636619986232 \n",
      "\n"
     ]
    }
   ],
   "source": [
    "from MySummarizer import MySummarizer\n",
    "\n",
    "DATA_DIR = \"data/test_summs/\"\n",
    "\n",
    "mySummarizer = MySummarizer(DATA_DIR, summarizeWithLead)\n",
    "mySummarizer.demonstrate(3)"
   ]
  },
  {
   "cell_type": "code",
   "execution_count": 23,
   "metadata": {},
   "outputs": [
    {
     "name": "stdout",
     "output_type": "stream",
     "text": [
      "0/12256\n",
      "1000/12256\n",
      "2000/12256\n",
      "3000/12256\n",
      "4000/12256\n",
      "5000/12256\n",
      "6000/12256\n",
      "7000/12256\n",
      "8000/12256\n",
      "9000/12256\n",
      "10000/12256\n",
      "11000/12256\n",
      "12000/12256\n",
      "rouge-1 avg f1 score: 0.23136559856431457\n",
      "rouge-2 avg f1 score: 0.07349270395885915\n",
      "rouge-l avg f1 score: 0.21050769455127388\n"
     ]
    }
   ],
   "source": [
    "mySummarizer.summarizeDataset(1000)"
   ]
  },
  {
   "cell_type": "markdown",
   "metadata": {},
   "source": [
    "# Choice of N\n",
    "\n",
    "I have experimented with first n ∈ {1, 2, 3, 4}. First three senteces seem to give the highest score:\n",
    "\n",
    "n=1: ![Lead_1](results/lead_1.png \"Lead_1\")\n",
    "![Lead_2](results/lead_2.png \"Lead_2\")\n",
    "![Lead_3](results/lead_3.png \"Lead_3\")\n",
    "![Lead_4](results/lead_4.png \"Lead_4\")"
   ]
  },
  {
   "cell_type": "code",
   "execution_count": null,
   "metadata": {},
   "outputs": [],
   "source": []
  }
 ],
 "metadata": {
  "kernelspec": {
   "display_name": "Python 3",
   "language": "python",
   "name": "python3"
  },
  "language_info": {
   "codemirror_mode": {
    "name": "ipython",
    "version": 3
   },
   "file_extension": ".py",
   "mimetype": "text/x-python",
   "name": "python",
   "nbconvert_exporter": "python",
   "pygments_lexer": "ipython3",
   "version": "3.7.6"
  }
 },
 "nbformat": 4,
 "nbformat_minor": 4
}
