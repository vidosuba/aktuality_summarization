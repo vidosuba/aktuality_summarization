{
 "cells": [
  {
   "cell_type": "code",
   "execution_count": 1,
   "metadata": {},
   "outputs": [
    {
     "name": "stderr",
     "output_type": "stream",
     "text": [
      "[nltk_data] Downloading package punkt to /home/luk/nltk_data...\n",
      "[nltk_data]   Package punkt is already up-to-date!\n"
     ]
    }
   ],
   "source": [
    "from os import listdir\n",
    "from summa.summarizer import summarize\n",
    "import stemmsk\n",
    "import rouge\n",
    "import nltk\n",
    "nltk.download('punkt')\n",
    "\n",
    "TRAINING_DIR = \"data/training_summs/\""
   ]
  },
  {
   "cell_type": "code",
   "execution_count": 3,
   "metadata": {},
   "outputs": [],
   "source": [
    "def stem_sentence(sentence):\n",
    "    new_sentence = []\n",
    "    for word in sentence.split(\" \"):\n",
    "        new_sentence.append(stemmsk.stem(word))\n",
    "    return \" \".join(new_sentence)"
   ]
  },
  {
   "cell_type": "code",
   "execution_count": 4,
   "metadata": {},
   "outputs": [
    {
     "data": {
      "text/plain": [
       "'list základn práv európsk úni'"
      ]
     },
     "execution_count": 4,
     "metadata": {},
     "output_type": "execute_result"
    }
   ],
   "source": [
    "stem_sentence(\"listina základních práv európskej únie\")"
   ]
  },
  {
   "cell_type": "code",
   "execution_count": 5,
   "metadata": {},
   "outputs": [],
   "source": [
    "text = \"\"\"Automatic summarization is the process of reducing a text document with a \\\n",
    "computer program in order to create a summary that retains the most important points \\\n",
    "of the original document. As the problem of information overload has grown, and as \\\n",
    "the quantity of data has increased, so has interest in automatic summarization. \\\n",
    "Technologies that can make a coherent summary take into account variables such as \\\n",
    "length, writing style and syntax. An example of the use of summarization technology \\\n",
    "is search engines such as Google. Document summarization is another.\"\"\""
   ]
  },
  {
   "cell_type": "code",
   "execution_count": 6,
   "metadata": {},
   "outputs": [
    {
     "name": "stdout",
     "output_type": "stream",
     "text": [
      "Automatic summarization is the process of reducing a text document with a computer program in order to create a summary that retains the most important points of the original document.\n"
     ]
    }
   ],
   "source": [
    "print(summarize(text))"
   ]
  },
  {
   "cell_type": "code",
   "execution_count": 7,
   "metadata": {},
   "outputs": [
    {
     "name": "stdout",
     "output_type": "stream",
     "text": [
      "98339\n",
      "f81ce708ea6c5e84b02124b75b0b239ca3f141b1.html\n",
      "\n",
      "Mimoriadne pátranie : 16 - ročná Zlatica zmizla a nik nevie kam Polícia žiada o pomoc pri pátraní po šestnásťročnej Zlatici Kovácsovej z Veľkého Krtíša . Nezvestná Zlatica\n",
      "\n",
      "Dievčina je nezvestná od 5 . júna , kedy odišla z miesta svojho trvalého bydliska a do dnešnej doby nepodala o sebe žiadnu správu . Nezvestná je 172 cm vysoká , štíhlej postavy , má modré oči a svetlohnedé vlasy . Naposledy mala oblečené tmavé elastické nohavice , čierne tričko s červeným obrazcom a tmavú bundu . Obuté mala čierno - ružové botasky . Akékoľvek informácie , ktoré by polícii mohli pomôcť , je možné oznámiť na ktoromkoľvek policajnom oddelení , prípadne na linke 158 .\n"
     ]
    }
   ],
   "source": [
    "files = listdir(TRAINING_DIR)\n",
    "print(len(files))\n",
    "\n",
    "print(files[0])\n",
    "with open(TRAINING_DIR + files[0], 'r') as r:\n",
    "    whole = r.read().split('\\n')[:-1]\n",
    "    summ, text = whole\n",
    "    \n",
    "print()\n",
    "print(summ)\n",
    "print()\n",
    "print(text)"
   ]
  },
  {
   "cell_type": "code",
   "execution_count": 15,
   "metadata": {},
   "outputs": [
    {
     "name": "stdout",
     "output_type": "stream",
     "text": [
      "f means f1 score, r means recall, p means precision\n",
      "\n",
      "TARGET: Mimoriadne pátranie : 16 - ročná Zlatica zmizla a nik nevie kam Polícia žiada o pomoc pri pátraní po šestnásťročnej Zlatici Kovácsovej z Veľkého Krtíša . Nezvestná Zlatica\n",
      "TEXT RANK: Dievčina je nezvestná od 5 .\n",
      "{'rouge-l': [{'f': [0.08243145848461483], 'p': [0.2246676924328796], 'r': [0.05047557202311498]}]}\n",
      "\n",
      "TARGET: Maďarsko zdanilo banky Pred časom sme Vás informovali o snahe Maďarska zdaniť banky vo výške 0 , 4 % alebo 0 , 5 % z ich celkovej bilancie na konci roka 2009 . Maďarská vláda nakoniec schválila dodatočné zdanenie bánk a to v úsilí znížiť svoj deficit verejných financií . zástava krajiny\n",
      "TEXT RANK: Mala sa zaviesť osobitná sadzba dane pre banky prostredníctvom dane z príjmu , na základe ktorej by sa bankám zvýšila sadzba dane zo súčasných 19 % na 25 % , avšak parlament túto novelu zákona o daní z príjmov neposunul do druhého čítania . Daň z príjmu tak ostáva rovnaká pre fyzické a právnické osoby vrátane bánk , ktoré sa nepovažujú za špeciálne subjekty a sadzba dane je tak 19 % .\n",
      "{'rouge-l': [{'f': [0.16344548559096597], 'p': [0.1423453371877574], 'r': [0.19188969881193105]}]}\n",
      "\n",
      "TARGET: Pri útoku Izraela zabili palestínskeho ministra Pri útoku izraelských síl dnes zahynul palestínsky minister . V oblasti možno čakať horúco !\n",
      "TEXT RANK: > > Palestínsky minister Zijád abú Ajn zahynul krátko po izraelskom útoku na okupovanom území Západneho brehu Jordánu . Prosinec 2014 Palestínskeho ministra Zijáda abú Ajna zabili počas zásahu izraelských vojakov proti demonštráciám na Západnom brehu Jordánu . Palestínsky zdravotník , ktorý bol očitým svedkom , fotoreportérovi agentúry potvrdil , že minister zomrel krátko po tom ako ho zasiahli údery izraelských vojakov . \" Izraelská vláda nesie plnú zodpovednosť za zabitie ministra Abú Ajna a za systematické zločiny páchané proti palestínskemu ľudu , \" vyhlásil Saíb Irikát , hlavný palestínsky mierový vyjednávač a vplyvný poradca prezidenta Abbása . Minister bez kresla Zijád abú Ajn bol ministrom bez kresla a z miesta incidentu sa ho ešte pokúšali previesť sanitkou . Minister bol počas incidentu medzi desiatkami demonštrantov v palestínskej dedine Turmusíjá .\n",
      "{'rouge-l': [{'f': [0.18179349365048514], 'p': [0.1154917741306182], 'r': [0.4268271965388075]}]}\n",
      "\n",
      "TARGET: Prioritou vlády je zrýchliť rozvoj ekonomiky založenej na inováciách , tvrdí Kažimír Zároveň uviedol , že súčasná vláda sa snaží slovenské inovatívne podniky podporovať aj legislatívnymi opatreniami .\n",
      "TEXT RANK: Slovenské inovatívne podniky tak budú mať možnosť stretnúť sa so špičkovými mentormi zo Silicon Valley a zástupcami akademickej obce , ktorá sa venuje inováciám . „ Snažíme sa o systematickú podporu slovenského startupového systému , ktorý má vzhľadom na veľkosť našej krajiny vo svete veľmi dobré meno . Dokopy ľudí zo Silicon Valley , čo sa týka korporátov , bude 20 , “ podotkol Šafárik s tým , že na Slovensko zavítajú aj profesori z Univerzity v Berkeley a taktiež zaujímaví mentori . „ Momentálne v rámci TechMatch Slovakia 2015 , samotného celého päťdňového procesu , sa zúčastní 10 spoločností zo Slovenska , “ dodal Šafárik .\n",
      "{'rouge-l': [{'f': [0.10505034417247994], 'p': [0.07279362481085469], 'r': [0.18864279981904783]}]}\n",
      "\n",
      "TARGET: Víchrica Dennis si vyžiadala životy dvoch ľudí Britský meteorologický ústav vydal množstvo výstrah platných pre takmer väčšinu územia .\n",
      "TEXT RANK: Dvaja ľudia zomreli v oblasti pobrežného grófstva Kent v čase , keď sa na Spojené kráľovstvo valí mohutná víchrica Dennis . Na komplikácie a rušenie stoviek letov sa podľa stanice BBC musia v nadchádzajúcich dňoch pripraviť desiatky tisícok cestujúcich . Na meškania a obmedzenia v doprave cestujúcich upozornili aj britské železnice .\n",
      "{'rouge-l': [{'f': [0.16728493204013448], 'p': [0.12106665568494165], 'r': [0.27058204132059704]}]}\n",
      "\n"
     ]
    }
   ],
   "source": [
    "evaluator = rouge.Rouge(metrics=['rouge-l'],\n",
    "                           max_n=4,\n",
    "                           limit_length=True,\n",
    "                           length_limit=100,\n",
    "                           length_limit_type='words',\n",
    "                           apply_avg=False,\n",
    "                           apply_best=False,\n",
    "                           alpha=0.5, # Default F1_score\n",
    "                           weight_factor=1.2,\n",
    "                           stemming=False)\n",
    "\n",
    "print('f means f1 score, r means recall, p means precision\\n')\n",
    "for i in range(5):\n",
    "    with open(TRAINING_DIR + files[i], 'r') as r:\n",
    "        whole = r.read().split('\\n')[:-1]\n",
    "        summ, text = whole\n",
    "        tr = summarize(text).replace('\\n', ' ')\n",
    "        \n",
    "        print('TARGET: ' + summ)\n",
    "        print('TEXT RANK: ' + tr)\n",
    "        \n",
    "        scores = evaluator.get_scores([tr], [summ])\n",
    "        print(scores)\n",
    "        print() "
   ]
  },
  {
   "cell_type": "code",
   "execution_count": null,
   "metadata": {},
   "outputs": [],
   "source": [
    "\n"
   ]
  }
 ],
 "metadata": {
  "kernelspec": {
   "display_name": "Python 3",
   "language": "python",
   "name": "python3"
  },
  "language_info": {
   "codemirror_mode": {
    "name": "ipython",
    "version": 3
   },
   "file_extension": ".py",
   "mimetype": "text/x-python",
   "name": "python",
   "nbconvert_exporter": "python",
   "pygments_lexer": "ipython3",
   "version": "3.7.6"
  }
 },
 "nbformat": 4,
 "nbformat_minor": 4
}
