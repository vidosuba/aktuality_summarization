{
 "cells": [
  {
   "cell_type": "code",
   "execution_count": 1,
   "metadata": {},
   "outputs": [
    {
     "name": "stderr",
     "output_type": "stream",
     "text": [
      "[nltk_data] Downloading package punkt to /home/luk/nltk_data...\n",
      "[nltk_data]   Package punkt is already up-to-date!\n"
     ]
    }
   ],
   "source": [
    "from os import listdir\n",
    "from summa.summarizer import summarize\n",
    "import stemmsk\n",
    "import rouge\n",
    "import nltk\n",
    "nltk.download('punkt')\n",
    "\n",
    "DATA_DIR = \"data/test_summs/\""
   ]
  },
  {
   "cell_type": "code",
   "execution_count": 2,
   "metadata": {},
   "outputs": [],
   "source": [
    "def stem_sentence(sentence):\n",
    "    new_sentence = []\n",
    "    for word in sentence.split(\" \"):\n",
    "        new_sentence.append(stemmsk.stem(word))\n",
    "    return \" \".join(new_sentence)"
   ]
  },
  {
   "cell_type": "code",
   "execution_count": 3,
   "metadata": {},
   "outputs": [
    {
     "data": {
      "text/plain": [
       "'list základn práv európsk úni'"
      ]
     },
     "execution_count": 3,
     "metadata": {},
     "output_type": "execute_result"
    }
   ],
   "source": [
    "stem_sentence(\"listina základních práv európskej únie\")"
   ]
  },
  {
   "cell_type": "code",
   "execution_count": 4,
   "metadata": {},
   "outputs": [],
   "source": [
    "text = \"\"\"Automatic summarization is the process of reducing a text document with a \\\n",
    "computer program in order to create a summary that retains the most important points \\\n",
    "of the original document. As the problem of information overload has grown, and as \\\n",
    "the quantity of data has increased, so has interest in automatic summarization. \\\n",
    "Technologies that can make a coherent summary take into account variables such as \\\n",
    "length, writing style and syntax. An example of the use of summarization technology \\\n",
    "is search engines such as Google. Document summarization is another.\"\"\""
   ]
  },
  {
   "cell_type": "code",
   "execution_count": 5,
   "metadata": {},
   "outputs": [
    {
     "name": "stdout",
     "output_type": "stream",
     "text": [
      "Automatic summarization is the process of reducing a text document with a computer program in order to create a summary that retains the most important points of the original document.\n"
     ]
    }
   ],
   "source": [
    "print(summarize(text))"
   ]
  },
  {
   "cell_type": "code",
   "execution_count": 10,
   "metadata": {},
   "outputs": [
    {
     "name": "stdout",
     "output_type": "stream",
     "text": [
      "12256\n",
      "20a1cb1e013b3efbbf19409a870dd004875dc3c8.html\n",
      "Centy v peňaženkách Slovákov zatiaľ ostanú Ilustračné foto\n",
      "\n",
      "Centy zatiaľ Slovákom v peňaženkách ostanú . Na dnešnej konferencii venovanej prvému roku s eurom to povedal guvernér Národnej banky Slovenska ( NBS ) Ivan Šramko . Podľa prieskumu , ktorý realizovalo Zastúpenie Európskej komisie na Slovensku v októbri tohto roku , vyplýva , že spotrebiteľom aj obchodníkom z euromincí najviac \" prekážajú \" práve jedno - a dvojcentové mince . \" Rušenie centov ako téma neexistuje . Občania si zvykli , pokiaľ niekto nemá záujem ich používať , tak ich nepoužíva , \" konštatoval Šramko . Prezident Zväzu obchodu a cestovného ruchu Pavol Konštiak si naopak myslí , že by bolo vhodné , aby sa začalo diskutovať aspoň o možnosti zaokrúhľovania cien na 5 centov . \" Zákon o zaokrúhľovaní na päťcentovky by výrazne pomohol spotrebiteľom , ale aj obchodníkom , \" spresnil . Centy by tak nezmizli , používal by ich len ten , kto chce a ceny by boli podľa Konštiaka prehľadnejšie .\n"
     ]
    }
   ],
   "source": [
    "files = listdir(DATA_DIR)\n",
    "print(len(files))\n",
    "\n",
    "print(files[0])\n",
    "with open(DATA_DIR + files[0], 'r') as r:\n",
    "    whole = r.read().split('\\n')[:-1]\n",
    "    summ, text = whole\n",
    "    \n",
    "print(summ + '\\n')\n",
    "print(text)"
   ]
  },
  {
   "cell_type": "markdown",
   "metadata": {},
   "source": [
    "------------------------------------------------------------------------------------------------------------------"
   ]
  },
  {
   "cell_type": "code",
   "execution_count": 7,
   "metadata": {},
   "outputs": [
    {
     "name": "stdout",
     "output_type": "stream",
     "text": [
      "f means f1 score, r means recall, p means precision\n",
      "\n",
      "TARGET: Centy v peňaženkách Slovákov zatiaľ ostanú Ilustračné foto\n",
      "TEXT RANK: Prezident Zväzu obchodu a cestovného ruchu Pavol Konštiak si naopak myslí , že by bolo vhodné , aby sa začalo diskutovať aspoň o možnosti zaokrúhľovania cien na 5 centov .\n",
      "rouge-l f1 score: 0.07307837217635979 \n",
      "\n",
      "TARGET: V USA skrachovalo ďalších 8 bánk , celkovo v tomto roku už 118 Americké regulačné úrady zatvorili ďalších 8 bánk . Celkovo ich v tomto roku v USA skrachovalo už 118 . Počet bankrotov amerických bánk sa zvyšuje a v tomto roku zrejme prekoná vlaňajších 140 , uviedla šéfka Federálneho úradu na ochranu vkladov FDIC Sheila Bairová v júli v rozhovore pre Bloomberg Television . Pobočka skrachovanej banky ShoreBank\n",
      "TEXT RANK: Väčšinou ide o menšie banky , s výnimkou chicagskej ShoreBank , ktorá je s aktívami v hodnote 2 , 16 miliardy USD ( 1 , 70 miliardy eur ) a vkladmi vo výške 1 , 54 miliardy USD najväčším americkým finančným inštitútom zbankrotovaným v posledných mesiacoch . FDIC okrem toho prevzal kontrolu nad kalifornskými Los Padres Bank , Pacific State Bank , Butte Community Bank a Sonoma Valley , floridskými Community National Bank a Independent National Bank a Imperial Savings and Loan Association z Virgínie .\n",
      "rouge-l f1 score: 0.14098177842020349 \n",
      "\n",
      "TARGET: Karin Haydu má plný diár Karin Haydu\n",
      "TEXT RANK: sk a dodala , že akcie , na ktorých sa predstaví v úlohe moderátorky má takmer každý druhý deň . „ Na Hrade moderujem akciu pre 580 VIP hostí z politického sveta , “ prezradila Karin Haydu pre Aktuality . „ Už v zime som bola na jednej .\n",
      "rouge-l f1 score: 0.17183762070038947 \n",
      "\n"
     ]
    }
   ],
   "source": [
    "evaluator = rouge.Rouge(metrics=['rouge-n', 'rouge-l'],\n",
    "                           max_n=2,\n",
    "                           limit_length=True,\n",
    "                           length_limit=100,\n",
    "                           length_limit_type='words',\n",
    "                           apply_avg=True,\n",
    "                           apply_best=False,\n",
    "                           alpha=0.5, # Default F1_score\n",
    "                           weight_factor=1.2,\n",
    "                           stemming=False)\n",
    "\n",
    "print('f means f1 score, r means recall, p means precision\\n')\n",
    "for i in range(3):\n",
    "    with open(DATA_DIR + files[i], 'r') as r:\n",
    "        whole = r.read().split('\\n')[:-1]\n",
    "        summ, text = whole\n",
    "        tr = summarize(text).replace('\\n', ' ')\n",
    "        \n",
    "        print('TARGET: ' + summ)\n",
    "        print('TEXT RANK: ' + tr)\n",
    "        \n",
    "        scores = evaluator.get_scores([tr], [summ])\n",
    "        print(f\"rouge-l f1 score: {scores['rouge-l']['f']} \\n\")"
   ]
  },
  {
   "cell_type": "code",
   "execution_count": 11,
   "metadata": {},
   "outputs": [
    {
     "name": "stdout",
     "output_type": "stream",
     "text": [
      "0/12256\n",
      "1000/12256\n",
      "2000/12256\n",
      "3000/12256\n",
      "4000/12256\n",
      "5000/12256\n",
      "6000/12256\n",
      "7000/12256\n",
      "8000/12256\n",
      "9000/12256\n",
      "10000/12256\n",
      "11000/12256\n",
      "12000/12256\n",
      "rouge-1 avg f1 score: 0.19922429806889883\n",
      "rouge-2 avg f1 score: 0.05733369965238888\n",
      "rouge-l avg f1 score: 0.18331173488840521\n"
     ]
    }
   ],
   "source": [
    "summarizations = []\n",
    "hypotheses = []\n",
    "\n",
    "for i in range(len(files)):\n",
    "    with open(DATA_DIR + files[i], 'r') as r:\n",
    "        whole = r.read().split('\\n')[:-1]\n",
    "        summ, text = whole\n",
    "        tr = summarize(text).replace('\\n', ' ')\n",
    "        summarizations.append(stem_sentence(summ))\n",
    "        hypotheses.append(stem_sentence(tr))\n",
    "        \n",
    "        if i % 1000 == 0:\n",
    "                print(f\"{i}/{len(files)}\")\n",
    "\n",
    "\n",
    "scores = evaluator.get_scores(hypotheses, summarizations)\n",
    "for metric in scores.keys():\n",
    "    results = scores[metric]\n",
    "    print(f\"{metric} avg f1 score: {results['f']}\")"
   ]
  },
  {
   "cell_type": "code",
   "execution_count": null,
   "metadata": {},
   "outputs": [],
   "source": []
  }
 ],
 "metadata": {
  "kernelspec": {
   "display_name": "Python 3",
   "language": "python",
   "name": "python3"
  },
  "language_info": {
   "codemirror_mode": {
    "name": "ipython",
    "version": 3
   },
   "file_extension": ".py",
   "mimetype": "text/x-python",
   "name": "python",
   "nbconvert_exporter": "python",
   "pygments_lexer": "ipython3",
   "version": "3.7.6"
  }
 },
 "nbformat": 4,
 "nbformat_minor": 4
}
